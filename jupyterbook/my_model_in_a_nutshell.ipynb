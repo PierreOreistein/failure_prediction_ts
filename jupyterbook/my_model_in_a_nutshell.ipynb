{
 "metadata": {
  "language_info": {
   "codemirror_mode": {
    "name": "ipython",
    "version": 3
   },
   "file_extension": ".py",
   "mimetype": "text/x-python",
   "name": "python",
   "nbconvert_exporter": "python",
   "pygments_lexer": "ipython3",
   "version": 3
  },
  "orig_nbformat": 2
 },
 "nbformat": 4,
 "nbformat_minor": 2,
 "cells": [
  {
   "source": [
    "# My Model in a nutshell\n",
    "\n",
    "\n",
    "## Notes\n",
    "\n",
    "This section explains the Model.\n",
    "\n",
    "(model:details)=\n",
    "## Details\n",
    "\n",
    "The details of the model go here"
   ],
   "cell_type": "markdown",
   "metadata": {}
  },
  {
   "cell_type": "code",
   "execution_count": null,
   "metadata": {},
   "outputs": [],
   "source": []
  }
 ]
}