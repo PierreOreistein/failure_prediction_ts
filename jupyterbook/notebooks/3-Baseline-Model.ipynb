{
 "cells": [
  {
   "cell_type": "markdown",
   "id": "34b00a30",
   "metadata": {},
   "source": [
    "# Baseline Model: Linear Regression"
   ]
  },
  {
   "cell_type": "markdown",
   "id": "b5b7e16d",
   "metadata": {},
   "source": [
    "# 1 - Information"
   ]
  },
  {
   "cell_type": "code",
   "execution_count": null,
   "id": "ba734aa8",
   "metadata": {},
   "outputs": [],
   "source": [
    "# Author: Pierre Oreistein"
   ]
  },
  {
   "cell_type": "markdown",
   "id": "ae61adc8",
   "metadata": {},
   "source": [
    "# 2 - Packages"
   ]
  },
  {
   "cell_type": "code",
   "execution_count": null,
   "id": "80746680",
   "metadata": {},
   "outputs": [],
   "source": [
    "%reload_kedro"
   ]
  },
  {
   "cell_type": "code",
   "execution_count": null,
   "id": "dbd73609",
   "metadata": {},
   "outputs": [],
   "source": [
    "# Math Packages\n",
    "import numpy as np\n",
    "\n",
    "# Data Handling Packages\n",
    "import pandas as pd\n",
    "\n",
    "# Machine Learning Packages\n",
    "from sklearn.linear_model import LinearRegression\n",
    "from sklearn.metrics import mean_squared_error, r2_score\n",
    "from sklearn.base import RegressorMixin\n",
    "\n",
    "# Logger\n",
    "import logging\n",
    "\n",
    "# Typing\n",
    "from typing import Dict, Union, List\n",
    "\n",
    "# Prevent unecessary warnings\n",
    "from warnings import filterwarnings\n",
    "filterwarnings(\"ignore\", \".*`should_run_async`.*\")"
   ]
  },
  {
   "cell_type": "markdown",
   "id": "05d57b9b",
   "metadata": {},
   "source": [
    "# 3 - Baseline Model: Linear Regression"
   ]
  },
  {
   "cell_type": "code",
   "execution_count": null,
   "id": "16e27c50",
   "metadata": {
    "tags": [
     "node"
    ]
   },
   "outputs": [],
   "source": [
    "def create_baseline_model() -> RegressorMixin:\n",
    "    \"\"\"Create Baseline model\"\"\"\n",
    "    # Initialisation of the model\n",
    "    model = LinearRegression()\n",
    "    return model"
   ]
  },
  {
   "cell_type": "code",
   "execution_count": null,
   "id": "d18bff07",
   "metadata": {
    "tags": [
     "node"
    ]
   },
   "outputs": [],
   "source": [
    "def train_baseline_model(model: RegressorMixin, train_df: pd.DataFrame) -> RegressorMixin:\n",
    "    \"\"\"Train the baseline model.\"\"\"\n",
    "    # Extract X and Y\n",
    "    X_train_df = train_df\n",
    "    y_train_df = X_train_df.pop('RUL')\n",
    "    \n",
    "    # Train the baseline model\n",
    "    model.fit(X_train_df, y_train_df)\n",
    "    \n",
    "    return model"
   ]
  },
  {
   "cell_type": "code",
   "execution_count": null,
   "id": "89d42453",
   "metadata": {
    "tags": [
     "node"
    ]
   },
   "outputs": [],
   "source": [
    "def evaluate(\n",
    "    y_true: Union[np.array, pd.DataFrame],\n",
    "    y_hat: Union[np.array, pd.DataFrame],\n",
    "    label: str='test'\n",
    ") -> Dict[str, Union[float, List[float]]]:\n",
    "    \"\"\"Evaluate the model.\"\"\"\n",
    "    # Compute the different metrics\n",
    "    mse = mean_squared_error(y_true, y_hat)\n",
    "    rmse = np.sqrt(mse)\n",
    "    r2_metric = r2_score(y_true, y_hat)\n",
    "    \n",
    "    # Save the metrics\n",
    "    metrics_dct = {\n",
    "        \"mse\": mse,\n",
    "        \"rmse\": rmse,\n",
    "        \"r2_score\": r2_metric\n",
    "    }\n",
    "    \n",
    "    # Log the metrics\n",
    "    log = logging.getLogger(\"kedro.custom\")\n",
    "    logging.info(f\"{label} set RMSE:{rmse}, R2:{r2_metric}\")\n",
    "    \n",
    "    return metrics_dct"
   ]
  },
  {
   "cell_type": "code",
   "execution_count": null,
   "id": "71683469",
   "metadata": {},
   "outputs": [],
   "source": [
    "# Load the training dataset\n",
    "train_df = catalog.load(\"train_preprocessed_df\")\n",
    "\n",
    "# Create the baseline model\n",
    "model = create_baseline_model()\n",
    "\n",
    "# Train the baseline model\n",
    "model = train_baseline_model(model=model, train_df=train_df)"
   ]
  },
  {
   "cell_type": "code",
   "execution_count": null,
   "id": "91c138b4",
   "metadata": {},
   "outputs": [],
   "source": [
    "# Load Testing Dataset\n",
    "X_test_df = catalog.load(\"X_test_preprocessed_df\")\n",
    "y_test_true = catalog.load(\"y_test_raw\")\n",
    "\n",
    "# Predict and evaluate the model\n",
    "y_test_pred = model.predict(X_test_df).reshape(-1, 1)\n",
    "\n",
    "# Evaluate the model\n",
    "metrics = evaluate(y_true=y_test_true, y_hat=y_test_pred, label=\"test\")"
   ]
  }
 ],
 "metadata": {
  "celltoolbar": "Tags",
  "kernelspec": {
   "display_name": "TurboFanFailurePrediction",
   "language": "python",
   "name": "python3"
  },
  "language_info": {
   "codemirror_mode": {
    "name": "ipython",
    "version": 3
   },
   "file_extension": ".py",
   "mimetype": "text/x-python",
   "name": "python",
   "nbconvert_exporter": "python",
   "pygments_lexer": "ipython3",
   "version": "3.7.10"
  }
 },
 "nbformat": 4,
 "nbformat_minor": 5
}
